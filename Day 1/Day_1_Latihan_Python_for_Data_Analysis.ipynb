{
 "cells": [
  {
   "cell_type": "markdown",
   "metadata": {},
   "source": [
    "### 1. Buatlah list berisi seluruh email pegawai yang ada di string data berikut."
   ]
  },
  {
   "cell_type": "code",
   "execution_count": 7,
   "metadata": {},
   "outputs": [],
   "source": [
    "data = '''booker12;rachel@example.com;9012;Rachel;Booker\n",
    "grey07;grey@anatomy.com;2070;Laura;Grey\n",
    "johnson81;johnson@johnson.and;4081;Craig;Johnson\n",
    "jenkins46;mary@example.com;9346;Mary;Jenkins\n",
    "smith79;jamie@example.com;5079;Jamie;Smith\n",
    "looke13;looke@example.com;9012;Rachel;Looke\n",
    "york07;york@anatomy.com;2070;Laura;York\n",
    "sholeh05;sholeh@johnson.and;4081;Craig;Sholeh\n",
    "vale46;vale@example.com;9346;Mary;Vale\n",
    "tugtug79;tugtug@example.com;5079;Jamie;Tugtug'''"
   ]
  },
  {
   "cell_type": "markdown",
   "metadata": {},
   "source": [
    "Contoh jawaban:\n",
    ">['rachel@example.com', 'grey@anatomy.com', 'johnson@johnson.and', 'mary@example.com', 'jamie@example.com', 'looke@example.com', 'york@anatomy.com', 'sholeh@johnson.and', 'vale@example.com', 'tugtug@example.com']"
   ]
  },
  {
   "cell_type": "code",
   "execution_count": 13,
   "metadata": {},
   "outputs": [
    {
     "name": "stdout",
     "output_type": "stream",
     "text": [
      "['rachel@example.com', 'grey@anatomy.com', 'johnson@johnson.and', 'mary@example.com', 'jamie@example.com', 'looke@example.com', 'york@anatomy.com', 'sholeh@johnson.and', 'vale@example.com', 'tugtug@example.com']\n"
     ]
    }
   ],
   "source": []
  },
  {
   "cell_type": "markdown",
   "metadata": {},
   "source": [
    "Challenge Zone: apakah task di atas bisa diselesaikan dengan satu baris kode?"
   ]
  },
  {
   "cell_type": "code",
   "execution_count": 9,
   "metadata": {},
   "outputs": [
    {
     "data": {
      "text/plain": [
       "['rachel@example.com',\n",
       " 'grey@anatomy.com',\n",
       " 'johnson@johnson.and',\n",
       " 'mary@example.com',\n",
       " 'jamie@example.com',\n",
       " 'looke@example.com',\n",
       " 'york@anatomy.com',\n",
       " 'sholeh@johnson.and',\n",
       " 'vale@example.com',\n",
       " 'tugtug@example.com']"
      ]
     },
     "execution_count": 9,
     "metadata": {},
     "output_type": "execute_result"
    }
   ],
   "source": []
  },
  {
   "cell_type": "markdown",
   "metadata": {},
   "source": [
    "### 2. Buatlah list deck kartu yang berisi pasangan antara ```card_sleeve``` dan ```card_value```\n",
    "\n",
    "contoh output: \n",
    ">['2 of ♣', '2 of ♦', '2 of ♥', '2 of ♠', '3 of ♣', '3 of ♦', '3 of ♥', '3 of ♠', '4 of ♣', '4 of ♦', '4 of ♥', '4 of ♠', '5 of ♣', '5 of ♦', '5 of ♥', '5 of ♠', '6 of ♣', '6 of ♦', '6 of ♥', '6 of ♠', '7 of ♣', '7 of ♦', '7 of ♥', '7 of ♠', '8 of ♣', '8 of ♦', '8 of ♥', '8 of ♠', '9 of ♣', '9 of ♦', '9 of ♥', '9 of ♠', '10 of ♣', '10 of ♦', '10 of ♥', '10 of ♠', 'J of ♣', 'J of ♦', 'J of ♥', 'J of ♠', 'Q of ♣', 'Q of ♦', 'Q of ♥', 'Q of ♠', 'K of ♣', 'K of ♦', 'K of ♥', 'K of ♠', 'A of ♣', 'A of ♦', 'A of ♥', 'A of ♠']"
   ]
  },
  {
   "cell_type": "code",
   "execution_count": 10,
   "metadata": {},
   "outputs": [],
   "source": [
    "card_sleeve = ['♣','♦','♥','♠']\n",
    "card_value = ['2','3','4','5','6','7','8','9','10','J','Q','K','A']"
   ]
  },
  {
   "cell_type": "code",
   "execution_count": 12,
   "metadata": {},
   "outputs": [
    {
     "name": "stdout",
     "output_type": "stream",
     "text": [
      "['2 of ♣', '2 of ♦', '2 of ♥', '2 of ♠', '3 of ♣', '3 of ♦', '3 of ♥', '3 of ♠', '4 of ♣', '4 of ♦', '4 of ♥', '4 of ♠', '5 of ♣', '5 of ♦', '5 of ♥', '5 of ♠', '6 of ♣', '6 of ♦', '6 of ♥', '6 of ♠', '7 of ♣', '7 of ♦', '7 of ♥', '7 of ♠', '8 of ♣', '8 of ♦', '8 of ♥', '8 of ♠', '9 of ♣', '9 of ♦', '9 of ♥', '9 of ♠', '10 of ♣', '10 of ♦', '10 of ♥', '10 of ♠', 'J of ♣', 'J of ♦', 'J of ♥', 'J of ♠', 'Q of ♣', 'Q of ♦', 'Q of ♥', 'Q of ♠', 'K of ♣', 'K of ♦', 'K of ♥', 'K of ♠', 'A of ♣', 'A of ♦', 'A of ♥', 'A of ♠']\n"
     ]
    }
   ],
   "source": []
  },
  {
   "cell_type": "markdown",
   "metadata": {},
   "source": [
    "Challenge Zone: apakah task di atas bisa diselesaikan dengan satu baris kode?"
   ]
  },
  {
   "cell_type": "markdown",
   "metadata": {},
   "source": [
    "### 3. Buatlah function untuk mengecek apakah pegawai dengan nama tertentu ada di ```employee_data```, \n",
    "\n",
    "jika ada print dengan format:\n",
    "\n",
    ">Nama: abc def<br>\n",
    "Email: abc@abc.cba"
   ]
  },
  {
   "cell_type": "code",
   "execution_count": 18,
   "metadata": {},
   "outputs": [
    {
     "name": "stdout",
     "output_type": "stream",
     "text": [
      "Nama: Rachel Looke\n",
      "Email: looke@example.com\n"
     ]
    }
   ],
   "source": [
    "employee_data = '''booker12;rachel@example.com;9012;rachel booker\n",
    "grey07;grey@anatomy.com;2070;laura grey\n",
    "johnson81;johnson@johnson.and;4081;craig johnson\n",
    "jenkins46;mary@example.com;9346;mary jenkins\n",
    "smith79;jamie@example.com;5079;jamie smith\n",
    "looke13;looke@example.com;9012;rachel looke\n",
    "york07;york@anatomy.com;2070;laura york\n",
    "sholeh05;sholeh@johnson.and;4081;craig sholeh\n",
    "vale46;vale@example.com;9346;mary vale\n",
    "tugtug79;tugtug@example.com;5079;jamie tugtug'''\n",
    "\n",
    "def employee_is_exist(searched_name):\n",
    "    ...\n",
    "\n",
    "employee_is_exist('looke')"
   ]
  },
  {
   "cell_type": "code",
   "execution_count": 19,
   "metadata": {},
   "outputs": [
    {
     "name": "stdout",
     "output_type": "stream",
     "text": [
      "Nama: Jamie Smith\n",
      "Email: jamie@example.com\n"
     ]
    }
   ],
   "source": [
    "employee_is_exist('smith')"
   ]
  },
  {
   "cell_type": "code",
   "execution_count": 20,
   "metadata": {},
   "outputs": [
    {
     "name": "stdout",
     "output_type": "stream",
     "text": [
      "Nama: Jamie Tugtug\n",
      "Email: tugtug@example.com\n"
     ]
    }
   ],
   "source": [
    "employee_is_exist('tugtug')"
   ]
  },
  {
   "cell_type": "markdown",
   "metadata": {},
   "source": [
    "### 4. Di dalam variabel ```student_score_data``` terdapat daftar nilai setiap mata pelajaran dari setiap siswa di kelas A. Siapa saja siswa yang ada di kelas A? Dan apa saja mata pelajaran yang mereka pelajari?\n",
    "\n",
    "hint: gunakan tipe data kolektif yang elemennya tidak bisa duplikat"
   ]
  },
  {
   "cell_type": "code",
   "execution_count": 22,
   "metadata": {},
   "outputs": [
    {
     "data": {
      "text/plain": [
       "'Tono,Matematika,100\\nTuti,Matematika,34\\nRosi,Matematika,78\\nTono,English,73\\nTuti,English,99\\nRosi,English,63\\nTono,Biologi,67\\nTuti,Biologi,97\\nRosi,Biologi,72\\nTono,Fisika,91\\nTuti,Fisika,76\\nRosi,Fisika,77'"
      ]
     },
     "execution_count": 22,
     "metadata": {},
     "output_type": "execute_result"
    }
   ],
   "source": [
    "student_score_data = '''Tono,Matematika,100\n",
    "Tuti,Matematika,34\n",
    "Rosi,Matematika,78\n",
    "Aldo,Matematika,86\n",
    "Tono,English,73\n",
    "Tuti,English,99\n",
    "Rosi,English,63\n",
    "Aldo,English,82\n",
    "Tono,Biologi,67\n",
    "Tuti,Biologi,97\n",
    "Rosi,Biologi,72\n",
    "Aldo,Biologi,81\n",
    "Tono,Fisika,91\n",
    "Tuti,Fisika,76\n",
    "Rosi,Fisika,77\n",
    "Aldo,Fisika,83\n",
    "Tono,Olahraga,72\n",
    "Tuti,Olahraga,74\n",
    "Rosi,Olahraga,97\n",
    "Aldo,Olahraga,91'''"
   ]
  },
  {
   "cell_type": "code",
   "execution_count": 23,
   "metadata": {},
   "outputs": [
    {
     "name": "stdout",
     "output_type": "stream",
     "text": [
      "{'Tuti', 'Tono', 'Rosi'}\n",
      "{'English', 'Fisika', 'Biologi', 'Matematika'}\n"
     ]
    }
   ],
   "source": []
  },
  {
   "cell_type": "code",
   "execution_count": null,
   "metadata": {},
   "outputs": [],
   "source": []
  }
 ],
 "metadata": {
  "kernelspec": {
   "display_name": "Python 3",
   "language": "python",
   "name": "python3"
  },
  "language_info": {
   "codemirror_mode": {
    "name": "ipython",
    "version": 3
   },
   "file_extension": ".py",
   "mimetype": "text/x-python",
   "name": "python",
   "nbconvert_exporter": "python",
   "pygments_lexer": "ipython3",
   "version": "3.9.18"
  }
 },
 "nbformat": 4,
 "nbformat_minor": 2
}
